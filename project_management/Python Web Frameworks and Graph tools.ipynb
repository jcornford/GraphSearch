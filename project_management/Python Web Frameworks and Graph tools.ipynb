{
 "cells": [
  {
   "cell_type": "markdown",
   "metadata": {},
   "source": [
    "## Python Web Frameworks\n",
    "\n",
    "Background articles: \n",
    "* https://www.airpair.com/python/posts/django-flask-pyramid\n",
    "* https://www.fullstackpython.com/web-frameworks.html\n",
    "\n",
    "### Flask\n",
    "http://flask.pocoo.org/\n",
    "* Most used for small projects\n",
    "* Great intro: https://pymodm.readthedocs.io/en/latest/getting-started.html\n",
    "\n",
    "### Bottle\n",
    "http://bottlepy.org/docs/dev/\n",
    "* Even more lightweight than Flask\n",
    "* Uses 'single file' approach\n",
    "* Perhaps does not scale well with larger (>1000 lines of code) projects: http://stackoverflow.com/questions/4941145/python-flask-vs-bottle\n",
    "* Short intro: https://realpython.com/blog/python/developing-with-bottle-part-1/\n",
    "\n",
    "### Django\n",
    "\n",
    "### Pyramid\n",
    "\n",
    "### Conclusion\n",
    "Seems like Flask scales better than Bottle when our app starts growing. Also, Flask is around longer than Bottle, meaning that it will be better tested, documented and have a greater user community. \n",
    "\n",
    "## Graph tools\n",
    "\n",
    "### NetworkX\n",
    "https://networkx.github.io/\n",
    "* Here's a cool intro slide deck to NetworkX: http://www.cl.cam.ac.uk/~cm542/teaching/2011/stna-pdfs/stna-lecture11.pdf According to this, NetworkX is really quite excellent. Works well with small networks and can perform graph analyses straight out of the box. Can do simple visualisations via Matplotlib.\n",
    "* Docu on visualisation options: https://networkx.github.io/documentation/networkx-1.10/reference/drawing.html\n",
    "* Basic visualisation example: https://bibhas.in/blog/visualizing-networks-with-python-and-networkx/\n",
    "\n",
    "### GraphX\n",
    "\n",
    "### Neo4j\n",
    "https://neo4j.com/\n",
    "* Quick to learn and good for storage.\n",
    "* Gets very slow when slightly more complex analyses are performed. (ie. look for neighbors connected via more than 2 edges etc.)\n",
    "* Visualisation is difficult to customise. Subgraphs can be exported (in limited ways) and loaded into other tools like Alchemy.js\n",
    "\n",
    "### Pygraphviz\n",
    "http://pygraphviz.github.io/\n",
    "* Works with NetworkX to visualise graphs.\n",
    "* Otherwise has similar functionality to NetworkX itself, so perhaps not as useful.\n",
    "* Clearly less well documented than NetworkX.\n",
    "\n",
    "### Alchemy.js\n",
    "* Visualisation only and documentation is limited.\n",
    "* We can use this if we have to create really neat visualisations.\n",
    "\n",
    "### Gephi\n",
    "https://gephi.org/\n",
    "* Open-source graph visualisation software. \n",
    "* Starts to have a Python API, does not seem a mature solution yet: https://gephi.wordpress.com/tag/python/\n",
    "\n",
    "#### Articles across the web on graph tools\n",
    "* Example of building graph apps using Python: https://linkurio.us/creating-a-graph-application-with-python-neo4j-gephi-and-linkurious-js/\n"
   ]
  },
  {
   "cell_type": "code",
   "execution_count": null,
   "metadata": {
    "collapsed": true
   },
   "outputs": [],
   "source": []
  }
 ],
 "metadata": {
  "anaconda-cloud": {},
  "kernelspec": {
   "display_name": "Python [conda root]",
   "language": "python",
   "name": "conda-root-py"
  },
  "language_info": {
   "codemirror_mode": {
    "name": "ipython",
    "version": 2
   },
   "file_extension": ".py",
   "mimetype": "text/x-python",
   "name": "python",
   "nbconvert_exporter": "python",
   "pygments_lexer": "ipython2",
   "version": "2.7.12"
  }
 },
 "nbformat": 4,
 "nbformat_minor": 1
}
