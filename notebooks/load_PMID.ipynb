{
 "cells": [
  {
   "cell_type": "markdown",
   "metadata": {},
   "source": [
    "### Markdown example\n",
    "Blab bla documentation\n"
   ]
  },
  {
   "cell_type": "code",
   "execution_count": 3,
   "metadata": {
    "collapsed": false
   },
   "outputs": [
    {
     "name": "stdout",
     "output_type": "stream",
     "text": [
      "<Response [200]>\n",
      "\n",
      "Status code: \n",
      "200\n",
      "\n",
      "Headers: \n",
      "{'X-XSS-Protection': '1; mode=block', 'NCBI-PHID': '03ED5B8C816250710000000003D303C0', 'Content-Security-Policy': 'upgrade-insecure-requests', 'Content-Encoding': 'gzip', 'Transfer-Encoding': 'chunked', 'Set-Cookie': 'ncbi_sid=03ED5B8C81630B51_0979SID; domain=.nih.gov; path=/; expires=Mon, 30 Oct 2017 17:41:09 GMT', 'Strict-Transport-Security': 'max-age=31536000; includeSubDomains; preload', 'Vary': 'Accept-Encoding', 'Keep-Alive': 'timeout=1, max=10', 'Server': 'Apache', 'Content-Security-Policy-Report-Only': \"default-src https:; script-src https: 'unsafe-inline' 'unsafe-eval'; font-src https: data:; img-src https: data:; style-src https: 'unsafe-inline'; report-uri https://www.ncbi.nlm.nih.gov/corecgi/csp/csp.cgi\", 'NCBI-SID': '03ED5B8C81630B51_0979SID', 'Connection': 'Keep-Alive', 'X-UA-Compatible': 'IE=Edge', 'Cache-Control': 'private', 'Date': 'Sun, 30 Oct 2016 17:41:09 GMT', 'Access-Control-Allow-Origin': '*', 'Content-Type': 'text/xml; charset=UTF-8'}\n",
      "\n",
      "All cited PMIDs:\n",
      "[u'8216567', u'7819893', u'12402719', u'11173046', u'12118235', u'12020178', u'12020180', u'12020179', u'12609941', u'9870574', u'11158556', u'10985878', u'10584742', u'8880846', u'8721797', u'8880845', u'9085306', u'9060022', u'7873954', u'10781914', u'11822262', u'10812319', u'11106885', u'9310564', u'3869471', u'3540871', u'10485502', u'8269451', u'7923306', u'1106936', u'11198829', u'10431716', u'10700324', u'9150293', u'10641469']\n",
      "35\n"
     ]
    }
   ],
   "source": [
    "import requests\n",
    "import untangle\n",
    "import pprint\n",
    "\n",
    "pp = pprint.PrettyPrinter(indent=4)\n",
    "\n",
    "r = requests.get('https://eutils.ncbi.nlm.nih.gov/entrez/eutils/efetch.fcgi?db=pmc&id=212403', auth=('user', 'pass'))\n",
    "print r\n",
    "print ''\n",
    "print 'Status code: ' \n",
    "print r.status_code\n",
    "print ''\n",
    "print 'Headers: '\n",
    "print r.headers\n",
    "print ''\n",
    "\n",
    "\n",
    "xmlObj = untangle.parse(r.text)\n",
    "\n",
    "pmid_lst = []\n",
    "\n",
    "for ref in xmlObj.pmc_articleset.article.back.ref_list.ref:\n",
    "    this_cite = ref.citation\n",
    "    \n",
    "    if hasattr(this_cite, 'pub_id'):\n",
    "        pubs = this_cite.pub_id\n",
    "        if type(pubs) == list:\n",
    "            for pub_el in pubs:\n",
    "                if pub_el['pub-id-type'] == 'pmid':\n",
    "                    #print 'Reference: '\n",
    "                    #print this_cite.article_title.cdata\n",
    "                    #print 'Entry type:'\n",
    "                    #print type(pub_el)\n",
    "                    #print 'Has PMID:'\n",
    "                    #print pub_el.cdata\n",
    "                    pmid_lst.append(pub_el.cdata)\n",
    "        elif pubs['pub-id-type'] == 'pmid':\n",
    "            #print 'Reference: '\n",
    "            #print this_cite.article_title.cdata\n",
    "            #print 'Entry type:'\n",
    "            #print type(pubs)\n",
    "            #print 'Has PMID:'\n",
    "            #print pubs.cdata\n",
    "            pmid_lst.append(pubs.cdata)\n",
    "            \n",
    "print 'All cited PMIDs:'\n",
    "print pmid_lst\n",
    "print len(pmid_lst)"
   ]
  },
  {
   "cell_type": "code",
   "execution_count": 1,
   "metadata": {
    "collapsed": false
   },
   "outputs": [
    {
     "data": {
      "text/plain": [
       "[u'8216567',\n",
       " u'7819893',\n",
       " u'12402719',\n",
       " u'11173046',\n",
       " u'12118235',\n",
       " u'12020178',\n",
       " u'12020180',\n",
       " u'12020179',\n",
       " u'12609941',\n",
       " u'9870574',\n",
       " u'11158556',\n",
       " u'10985878',\n",
       " u'10584742',\n",
       " u'8880846',\n",
       " u'8721797',\n",
       " u'8880845',\n",
       " u'9085306',\n",
       " u'9060022',\n",
       " u'7873954',\n",
       " u'10781914',\n",
       " u'11822262',\n",
       " u'10812319',\n",
       " u'11106885',\n",
       " u'9310564',\n",
       " u'3869471',\n",
       " u'3540871',\n",
       " u'10485502',\n",
       " u'8269451',\n",
       " u'7923306',\n",
       " u'1106936',\n",
       " u'11198829',\n",
       " u'10431716',\n",
       " u'10700324',\n",
       " u'9150293',\n",
       " u'10641469']"
      ]
     },
     "execution_count": 1,
     "metadata": {},
     "output_type": "execute_result"
    }
   ],
   "source": [
    "import sys\n",
    "sys.path.append('../lib')\n",
    "from ConnectEutils import ConnectEutils\n",
    "\n",
    "\n",
    "eutils = ConnectEutils()\n",
    "\n",
    "eutils.get_cited_PMID('212403')"
   ]
  },
  {
   "cell_type": "code",
   "execution_count": null,
   "metadata": {
    "collapsed": true
   },
   "outputs": [],
   "source": []
  }
 ],
 "metadata": {
  "anaconda-cloud": {},
  "celltoolbar": "Edit Metadata",
  "kernelspec": {
   "display_name": "Python [conda root]",
   "language": "python",
   "name": "conda-root-py"
  },
  "language_info": {
   "codemirror_mode": {
    "name": "ipython",
    "version": 2
   },
   "file_extension": ".py",
   "mimetype": "text/x-python",
   "name": "python",
   "nbconvert_exporter": "python",
   "pygments_lexer": "ipython2",
   "version": "2.7.12"
  }
 },
 "nbformat": 4,
 "nbformat_minor": 1
}
