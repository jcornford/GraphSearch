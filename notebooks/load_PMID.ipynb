{
 "cells": [
  {
   "cell_type": "code",
   "execution_count": 85,
   "metadata": {
    "collapsed": false
   },
   "outputs": [
    {
     "name": "stdout",
     "output_type": "stream",
     "text": [
      "<Response [200]>\n",
      "\n",
      "Status code: \n",
      "200\n",
      "\n",
      "Headers: \n",
      "{'X-XSS-Protection': '1; mode=block', 'NCBI-PHID': '990C4563802C35F100000000027D0279', 'Content-Security-Policy': 'upgrade-insecure-requests', 'Content-Encoding': 'gzip', 'Transfer-Encoding': 'chunked', 'Set-Cookie': 'ncbi_sid=990C4563802C8021_0637SID; domain=.nih.gov; path=/; expires=Mon, 16 Oct 2017 00:21:22 GMT', 'Strict-Transport-Security': 'max-age=31536000; includeSubDomains; preload', 'Vary': 'Accept-Encoding', 'Keep-Alive': 'timeout=1, max=10', 'Server': 'Apache', 'Content-Security-Policy-Report-Only': \"default-src https:; script-src https: 'unsafe-inline' 'unsafe-eval'; font-src https: data:; img-src https: data:; style-src https: 'unsafe-inline'; report-uri https://www.ncbi.nlm.nih.gov/corecgi/csp/csp.cgi\", 'NCBI-SID': '990C4563802C8021_0637SID', 'Connection': 'Keep-Alive', 'X-UA-Compatible': 'IE=Edge', 'Cache-Control': 'private', 'Date': 'Sun, 16 Oct 2016 00:21:22 GMT', 'Access-Control-Allow-Origin': '*', 'Content-Type': 'text/xml; charset=UTF-8'}\n",
      "\n",
      "All cited PMIDs:\n",
      "[u'8216567', u'7819893', u'12402719', u'11173046', u'12118235', u'12020178', u'12020180', u'12020179', u'12609941', u'9870574', u'11158556', u'10985878', u'10584742', u'8880846', u'8721797', u'8880845', u'9085306', u'9060022', u'7873954', u'10781914', u'11822262', u'10812319', u'11106885', u'9310564', u'3869471', u'3540871', u'10485502', u'8269451', u'7923306', u'1106936', u'11198829', u'10431716', u'10700324', u'9150293', u'10641469']\n",
      "35\n"
     ]
    }
   ],
   "source": [
    "import requests\n",
    "import untangle\n",
    "import pprint\n",
    "\n",
    "pp = pprint.PrettyPrinter(indent=4)\n",
    "\n",
    "r = requests.get('https://eutils.ncbi.nlm.nih.gov/entrez/eutils/efetch.fcgi?db=pmc&id=212403', auth=('user', 'pass'))\n",
    "print r\n",
    "print ''\n",
    "print 'Status code: ' \n",
    "print r.status_code\n",
    "print ''\n",
    "print 'Headers: '\n",
    "print r.headers\n",
    "print ''\n",
    "\n",
    "\n",
    "xmlObj = untangle.parse(r.text)\n",
    "\n",
    "pmid_lst = []\n",
    "\n",
    "for ref in xmlObj.pmc_articleset.article.back.ref_list.ref:\n",
    "    this_cite = ref.citation\n",
    "    \n",
    "    if hasattr(this_cite, 'pub_id'):\n",
    "        pubs = this_cite.pub_id\n",
    "        if type(pubs) == list:\n",
    "            for pub_el in pubs:\n",
    "                if pub_el['pub-id-type'] == 'pmid':\n",
    "                    #print 'Reference: '\n",
    "                    #print this_cite.article_title.cdata\n",
    "                    #print 'Entry type:'\n",
    "                    #print type(pub_el)\n",
    "                    #print 'Has PMID:'\n",
    "                    #print pub_el.cdata\n",
    "                    pmid_lst.append(pub_el.cdata)\n",
    "        elif pubs['pub-id-type'] == 'pmid':\n",
    "            #print 'Reference: '\n",
    "            #print this_cite.article_title.cdata\n",
    "            #print 'Entry type:'\n",
    "            #print type(pubs)\n",
    "            #print 'Has PMID:'\n",
    "            #print pubs.cdata\n",
    "            pmid_lst.append(pubs.cdata)\n",
    "            \n",
    "print 'All cited PMIDs:'\n",
    "print pmid_lst\n",
    "print len(pmid_lst)"
   ]
  },
  {
   "cell_type": "code",
   "execution_count": null,
   "metadata": {
    "collapsed": true
   },
   "outputs": [],
   "source": []
  }
 ],
 "metadata": {
  "anaconda-cloud": {},
  "celltoolbar": "Edit Metadata",
  "kernelspec": {
   "display_name": "Python [conda root]",
   "language": "python",
   "name": "conda-root-py"
  },
  "language_info": {
   "codemirror_mode": {
    "name": "ipython",
    "version": 2
   },
   "file_extension": ".py",
   "mimetype": "text/x-python",
   "name": "python",
   "nbconvert_exporter": "python",
   "pygments_lexer": "ipython2",
   "version": "2.7.12"
  }
 },
 "nbformat": 4,
 "nbformat_minor": 1
}
